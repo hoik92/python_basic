{
 "cells": [
  {
   "cell_type": "code",
   "execution_count": 1,
   "metadata": {},
   "outputs": [],
   "source": [
    "# 문제\n",
    "n = 5\n",
    "m = 9"
   ]
  },
  {
   "cell_type": "code",
   "execution_count": 4,
   "metadata": {},
   "outputs": [
    {
     "name": "stdout",
     "output_type": "stream",
     "text": [
      "*****\n",
      "*****\n",
      "*****\n",
      "*****\n",
      "*****\n",
      "*****\n",
      "*****\n",
      "*****\n",
      "*****\n",
      "\n"
     ]
    }
   ],
   "source": [
    "# 정답\n",
    "print((\"*\" * n + \"\\n\") * m)"
   ]
  },
  {
   "cell_type": "code",
   "execution_count": 2,
   "metadata": {},
   "outputs": [],
   "source": [
    "# 문제\n",
    "student = {'python': 80, 'algorithm': 99, 'django': 89, 'flask': 83}"
   ]
  },
  {
   "cell_type": "code",
   "execution_count": 8,
   "metadata": {},
   "outputs": [
    {
     "name": "stdout",
     "output_type": "stream",
     "text": [
      "87.75\n"
     ]
    }
   ],
   "source": [
    "# 정답\n",
    "avg = sum(student.values()) / len(student)\n",
    "print(avg)"
   ]
  },
  {
   "cell_type": "code",
   "execution_count": 3,
   "metadata": {},
   "outputs": [],
   "source": [
    "# 문제\n",
    "blood_types = ['A', 'B', 'A', 'O', 'AB', 'AB', 'O', 'A', 'B', 'O', 'B', 'AB']"
   ]
  },
  {
   "cell_type": "code",
   "execution_count": 7,
   "metadata": {},
   "outputs": [
    {
     "name": "stdout",
     "output_type": "stream",
     "text": [
      "A형: 3명, B형: 3명, AB형: 3명, O형: 3명\n"
     ]
    }
   ],
   "source": [
    "A_count = 0\n",
    "B_count = 0\n",
    "AB_count = 0\n",
    "O_count = 0\n",
    "\n",
    "for i in blood_types:\n",
    "    if i == \"A\":\n",
    "        A_count += 1\n",
    "    elif i == \"B\":\n",
    "        B_count += 1\n",
    "    elif i == \"AB\":\n",
    "        AB_count += 1\n",
    "    elif i == \"O\":\n",
    "        O_count += 1\n",
    "        \n",
    "print(f\"A형: {A_count}명, B형: {B_count}명, AB형: {AB_count}명, O형: {O_count}명\")"
   ]
  },
  {
   "cell_type": "code",
   "execution_count": 9,
   "metadata": {},
   "outputs": [],
   "source": [
    "# result = {}\n",
    "\n",
    "# for bt in blood_types:\n",
    "#     if bt in result:\n",
    "#         result[bt] += 1\n",
    "#     else:\n",
    "#         result[bt] = 1\n",
    "\n",
    "# print(result)"
   ]
  }
 ],
 "metadata": {
  "kernelspec": {
   "display_name": "Python 3",
   "language": "python",
   "name": "python3"
  },
  "language_info": {
   "codemirror_mode": {
    "name": "ipython",
    "version": 3
   },
   "file_extension": ".py",
   "mimetype": "text/x-python",
   "name": "python",
   "nbconvert_exporter": "python",
   "pygments_lexer": "ipython3",
   "version": "3.7.1"
  }
 },
 "nbformat": 4,
 "nbformat_minor": 2
}
